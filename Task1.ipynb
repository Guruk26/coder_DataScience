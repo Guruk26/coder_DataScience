{
 "cells": [
  {
   "cell_type": "code",
   "execution_count": 15,
   "id": "6e0ecc0a",
   "metadata": {},
   "outputs": [
    {
     "name": "stdout",
     "output_type": "stream",
     "text": [
      "\n",
      "---Simple Calculator---\n",
      "1.Add\n",
      "2.Subtract\n",
      "3.Multiply\n",
      "4.Divide\n",
      "5.Average\n",
      "6.Factorial\n",
      "7.Square\n",
      "8.Cube\n",
      "9.Exit\n",
      "\n",
      "Enter your chioce (1-9)9\n",
      "Exiting Calculator\n"
     ]
    }
   ],
   "source": [
    "def add(a,b):\n",
    "    return a+b\n",
    "def subtract(a,b):\n",
    "    return a-b\n",
    "def multiply(a,b):\n",
    "    return a*b\n",
    "def divide(a,b):\n",
    "    if b!=0:\n",
    "        return a/b\n",
    "    else:\n",
    "        print(\"Cannot divide by zero\")\n",
    "def average(numbers):\n",
    "    if numbers:\n",
    "        return sum(numbers)/len(numbers)\n",
    "    else:\n",
    "        print(\"0\")\n",
    "def factorial(n):\n",
    "    if n<0:\n",
    "        return \"Factorial not define for negative numbers\"\n",
    "    fact=1\n",
    "    for i in range(1,n+1):\n",
    "        fact = fact*i\n",
    "    return fact\n",
    "def square(n):\n",
    "    return n*n\n",
    "def cube(n):\n",
    "    return n*n*n\n",
    "def calculator():\n",
    "    print(\"\\n---Simple Calculator---\")\n",
    "    print(\"1.Add\\n2.Subtract\\n3.Multiply\\n4.Divide\")\n",
    "    print(\"5.Average\\n6.Factorial\\n7.Square\\n8.Cube\\n9.Exit\")\n",
    "    \n",
    "    while True:\n",
    "        choice=input(\"\\nEnter your chioce (1-9)\")\n",
    "        \n",
    "        if choice=='9':\n",
    "            print(\"Exiting Calculator\")\n",
    "            break\n",
    "        \n",
    "        if choice in ('1','2','3','4'):\n",
    "            num1=float(input(\"Enter first number:-\"))\n",
    "            num2=float(input(\"Enter second number:-\"))\n",
    "            \n",
    "            if choice=='1':\n",
    "                print(\"Result:\",add(num1,num2))\n",
    "            elif choice=='2':\n",
    "                print(\"Result:\",subtract(num1,num2))\n",
    "            elif choice=='3':\n",
    "                print(\"Result:\",multiply(num1,num2))\n",
    "            elif choice=='4':\n",
    "                print(\"Result:\",divide(num1,num2))\n",
    "\n",
    "        elif choice=='5':\n",
    "            nums=list(map(float,input(\"Enter number separated by spaces:\").split()))\n",
    "            print(\"Average:\",average(nums))\n",
    "        elif choice=='6':\n",
    "            num=int(input(\"Enter a number:\"))\n",
    "            print(\"Factorial:\",factorial(num))\n",
    "        elif choice=='7':\n",
    "            num=float(input(\"Enter a number:\"))\n",
    "            print(\"Square:\",square(num))\n",
    "        elif choice=='8':\n",
    "            num=float(input(\"Enter a number:\"))\n",
    "            print(\"Cube:\",cube(num))\n",
    "        else:\n",
    "            print(\"Invalid input Please enter a valid choice.\")\n",
    "calculator()"
   ]
  },
  {
   "cell_type": "code",
   "execution_count": null,
   "id": "476d823f",
   "metadata": {},
   "outputs": [],
   "source": []
  },
  {
   "cell_type": "code",
   "execution_count": null,
   "id": "4aa2d89e",
   "metadata": {},
   "outputs": [],
   "source": []
  }
 ],
 "metadata": {
  "kernelspec": {
   "display_name": "Python 3 (ipykernel)",
   "language": "python",
   "name": "python3"
  },
  "language_info": {
   "codemirror_mode": {
    "name": "ipython",
    "version": 3
   },
   "file_extension": ".py",
   "mimetype": "text/x-python",
   "name": "python",
   "nbconvert_exporter": "python",
   "pygments_lexer": "ipython3",
   "version": "3.11.5"
  }
 },
 "nbformat": 4,
 "nbformat_minor": 5
}
